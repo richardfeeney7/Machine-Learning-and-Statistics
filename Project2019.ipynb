{
 "cells": [
  {
   "cell_type": "markdown",
   "metadata": {},
   "source": [
    "# Machine Learning and Statistics Project 2019"
   ]
  },
  {
   "cell_type": "code",
   "execution_count": 76,
   "metadata": {},
   "outputs": [],
   "source": [
    "# Import libraries necessary for this project\n",
    "import numpy as np\n",
    "import pandas as pd\n",
    "import seaborn as sns\n",
    "import matplotlib.pyplot as plt\n",
    "\n",
    "from sklearn import linear_model\n",
    "from sklearn.linear_model import LinearRegression\n",
    "from sklearn.model_selection import train_test_split\n",
    "\n",
    "# Nicely formatted plots\n",
    "%matplotlib inline\n",
    "\n",
    "# Load the Boston housing dataset from sklearn\n",
    "from sklearn.datasets import load_boston\n",
    "bhp = load_boston()\n",
    "prices = bhp.target # Define the target values\n",
    "features = bhp.data # Define the attribute values\n",
    "\n",
    "#Store in DataFrame - Easier manipulation\n",
    "attributes = bhp.feature_names # feature name(s)\n",
    "data    = pd.DataFrame(features, columns = attributes)\n",
    "target  = pd.DataFrame(prices, columns =['MEDV'])\n",
    "boston  = pd.concat([data, target,], axis = 1) #concat data/target\n"
   ]
  },
  {
   "cell_type": "markdown",
   "metadata": {},
   "source": [
    "## Explore the Data"
   ]
  },
  {
   "cell_type": "code",
   "execution_count": 92,
   "metadata": {},
   "outputs": [
    {
     "name": "stdout",
     "output_type": "stream",
     "text": [
      "{'data': array([[6.3200e-03, 1.8000e+01, 2.3100e+00, ..., 1.5300e+01, 3.9690e+02,\n",
      "        4.9800e+00],\n",
      "       [2.7310e-02, 0.0000e+00, 7.0700e+00, ..., 1.7800e+01, 3.9690e+02,\n",
      "        9.1400e+00],\n",
      "       [2.7290e-02, 0.0000e+00, 7.0700e+00, ..., 1.7800e+01, 3.9283e+02,\n",
      "        4.0300e+00],\n",
      "       ...,\n",
      "       [6.0760e-02, 0.0000e+00, 1.1930e+01, ..., 2.1000e+01, 3.9690e+02,\n",
      "        5.6400e+00],\n",
      "       [1.0959e-01, 0.0000e+00, 1.1930e+01, ..., 2.1000e+01, 3.9345e+02,\n",
      "        6.4800e+00],\n",
      "       [4.7410e-02, 0.0000e+00, 1.1930e+01, ..., 2.1000e+01, 3.9690e+02,\n",
      "        7.8800e+00]]), 'target': array([24. , 21.6, 34.7, 33.4, 36.2, 28.7, 22.9, 27.1, 16.5, 18.9, 15. ,\n",
      "       18.9, 21.7, 20.4, 18.2, 19.9, 23.1, 17.5, 20.2, 18.2, 13.6, 19.6,\n",
      "       15.2, 14.5, 15.6, 13.9, 16.6, 14.8, 18.4, 21. , 12.7, 14.5, 13.2,\n",
      "       13.1, 13.5, 18.9, 20. , 21. , 24.7, 30.8, 34.9, 26.6, 25.3, 24.7,\n",
      "       21.2, 19.3, 20. , 16.6, 14.4, 19.4, 19.7, 20.5, 25. , 23.4, 18.9,\n",
      "       35.4, 24.7, 31.6, 23.3, 19.6, 18.7, 16. , 22.2, 25. , 33. , 23.5,\n",
      "       19.4, 22. , 17.4, 20.9, 24.2, 21.7, 22.8, 23.4, 24.1, 21.4, 20. ,\n",
      "       20.8, 21.2, 20.3, 28. , 23.9, 24.8, 22.9, 23.9, 26.6, 22.5, 22.2,\n",
      "       23.6, 28.7, 22.6, 22. , 22.9, 25. , 20.6, 28.4, 21.4, 38.7, 43.8,\n",
      "       33.2, 27.5, 26.5, 18.6, 19.3, 20.1, 19.5, 19.5, 20.4, 19.8, 19.4,\n",
      "       21.7, 22.8, 18.8, 18.7, 18.5, 18.3, 21.2, 19.2, 20.4, 19.3, 22. ,\n",
      "       20.3, 20.5, 17.3, 18.8, 21.4, 15.7, 16.2, 18. , 14.3, 19.2, 19.6,\n",
      "       23. , 18.4, 15.6, 18.1, 17.4, 17.1, 13.3, 17.8, 14. , 14.4, 13.4,\n",
      "       15.6, 11.8, 13.8, 15.6, 14.6, 17.8, 15.4, 21.5, 19.6, 15.3, 19.4,\n",
      "       17. , 15.6, 13.1, 41.3, 24.3, 23.3, 27. , 50. , 50. , 50. , 22.7,\n",
      "       25. , 50. , 23.8, 23.8, 22.3, 17.4, 19.1, 23.1, 23.6, 22.6, 29.4,\n",
      "       23.2, 24.6, 29.9, 37.2, 39.8, 36.2, 37.9, 32.5, 26.4, 29.6, 50. ,\n",
      "       32. , 29.8, 34.9, 37. , 30.5, 36.4, 31.1, 29.1, 50. , 33.3, 30.3,\n",
      "       34.6, 34.9, 32.9, 24.1, 42.3, 48.5, 50. , 22.6, 24.4, 22.5, 24.4,\n",
      "       20. , 21.7, 19.3, 22.4, 28.1, 23.7, 25. , 23.3, 28.7, 21.5, 23. ,\n",
      "       26.7, 21.7, 27.5, 30.1, 44.8, 50. , 37.6, 31.6, 46.7, 31.5, 24.3,\n",
      "       31.7, 41.7, 48.3, 29. , 24. , 25.1, 31.5, 23.7, 23.3, 22. , 20.1,\n",
      "       22.2, 23.7, 17.6, 18.5, 24.3, 20.5, 24.5, 26.2, 24.4, 24.8, 29.6,\n",
      "       42.8, 21.9, 20.9, 44. , 50. , 36. , 30.1, 33.8, 43.1, 48.8, 31. ,\n",
      "       36.5, 22.8, 30.7, 50. , 43.5, 20.7, 21.1, 25.2, 24.4, 35.2, 32.4,\n",
      "       32. , 33.2, 33.1, 29.1, 35.1, 45.4, 35.4, 46. , 50. , 32.2, 22. ,\n",
      "       20.1, 23.2, 22.3, 24.8, 28.5, 37.3, 27.9, 23.9, 21.7, 28.6, 27.1,\n",
      "       20.3, 22.5, 29. , 24.8, 22. , 26.4, 33.1, 36.1, 28.4, 33.4, 28.2,\n",
      "       22.8, 20.3, 16.1, 22.1, 19.4, 21.6, 23.8, 16.2, 17.8, 19.8, 23.1,\n",
      "       21. , 23.8, 23.1, 20.4, 18.5, 25. , 24.6, 23. , 22.2, 19.3, 22.6,\n",
      "       19.8, 17.1, 19.4, 22.2, 20.7, 21.1, 19.5, 18.5, 20.6, 19. , 18.7,\n",
      "       32.7, 16.5, 23.9, 31.2, 17.5, 17.2, 23.1, 24.5, 26.6, 22.9, 24.1,\n",
      "       18.6, 30.1, 18.2, 20.6, 17.8, 21.7, 22.7, 22.6, 25. , 19.9, 20.8,\n",
      "       16.8, 21.9, 27.5, 21.9, 23.1, 50. , 50. , 50. , 50. , 50. , 13.8,\n",
      "       13.8, 15. , 13.9, 13.3, 13.1, 10.2, 10.4, 10.9, 11.3, 12.3,  8.8,\n",
      "        7.2, 10.5,  7.4, 10.2, 11.5, 15.1, 23.2,  9.7, 13.8, 12.7, 13.1,\n",
      "       12.5,  8.5,  5. ,  6.3,  5.6,  7.2, 12.1,  8.3,  8.5,  5. , 11.9,\n",
      "       27.9, 17.2, 27.5, 15. , 17.2, 17.9, 16.3,  7. ,  7.2,  7.5, 10.4,\n",
      "        8.8,  8.4, 16.7, 14.2, 20.8, 13.4, 11.7,  8.3, 10.2, 10.9, 11. ,\n",
      "        9.5, 14.5, 14.1, 16.1, 14.3, 11.7, 13.4,  9.6,  8.7,  8.4, 12.8,\n",
      "       10.5, 17.1, 18.4, 15.4, 10.8, 11.8, 14.9, 12.6, 14.1, 13. , 13.4,\n",
      "       15.2, 16.1, 17.8, 14.9, 14.1, 12.7, 13.5, 14.9, 20. , 16.4, 17.7,\n",
      "       19.5, 20.2, 21.4, 19.9, 19. , 19.1, 19.1, 20.1, 19.9, 19.6, 23.2,\n",
      "       29.8, 13.8, 13.3, 16.7, 12. , 14.6, 21.4, 23. , 23.7, 25. , 21.8,\n",
      "       20.6, 21.2, 19.1, 20.6, 15.2,  7. ,  8.1, 13.6, 20.1, 21.8, 24.5,\n",
      "       23.1, 19.7, 18.3, 21.2, 17.5, 16.8, 22.4, 20.6, 23.9, 22. , 11.9]), 'feature_names': array(['CRIM', 'ZN', 'INDUS', 'CHAS', 'NOX', 'RM', 'AGE', 'DIS', 'RAD',\n",
      "       'TAX', 'PTRATIO', 'B', 'LSTAT'], dtype='<U7'), 'DESCR': \".. _boston_dataset:\\n\\nBoston house prices dataset\\n---------------------------\\n\\n**Data Set Characteristics:**  \\n\\n    :Number of Instances: 506 \\n\\n    :Number of Attributes: 13 numeric/categorical predictive. Median Value (attribute 14) is usually the target.\\n\\n    :Attribute Information (in order):\\n        - CRIM     per capita crime rate by town\\n        - ZN       proportion of residential land zoned for lots over 25,000 sq.ft.\\n        - INDUS    proportion of non-retail business acres per town\\n        - CHAS     Charles River dummy variable (= 1 if tract bounds river; 0 otherwise)\\n        - NOX      nitric oxides concentration (parts per 10 million)\\n        - RM       average number of rooms per dwelling\\n        - AGE      proportion of owner-occupied units built prior to 1940\\n        - DIS      weighted distances to five Boston employment centres\\n        - RAD      index of accessibility to radial highways\\n        - TAX      full-value property-tax rate per $10,000\\n        - PTRATIO  pupil-teacher ratio by town\\n        - B        1000(Bk - 0.63)^2 where Bk is the proportion of blacks by town\\n        - LSTAT    % lower status of the population\\n        - MEDV     Median value of owner-occupied homes in $1000's\\n\\n    :Missing Attribute Values: None\\n\\n    :Creator: Harrison, D. and Rubinfeld, D.L.\\n\\nThis is a copy of UCI ML housing dataset.\\nhttps://archive.ics.uci.edu/ml/machine-learning-databases/housing/\\n\\n\\nThis dataset was taken from the StatLib library which is maintained at Carnegie Mellon University.\\n\\nThe Boston house-price data of Harrison, D. and Rubinfeld, D.L. 'Hedonic\\nprices and the demand for clean air', J. Environ. Economics & Management,\\nvol.5, 81-102, 1978.   Used in Belsley, Kuh & Welsch, 'Regression diagnostics\\n...', Wiley, 1980.   N.B. Various transformations are used in the table on\\npages 244-261 of the latter.\\n\\nThe Boston house-price data has been used in many machine learning papers that address regression\\nproblems.   \\n     \\n.. topic:: References\\n\\n   - Belsley, Kuh & Welsch, 'Regression diagnostics: Identifying Influential Data and Sources of Collinearity', Wiley, 1980. 244-261.\\n   - Quinlan,R. (1993). Combining Instance-Based and Model-Based Learning. In Proceedings on the Tenth International Conference of Machine Learning, 236-243, University of Massachusetts, Amherst. Morgan Kaufmann.\\n\", 'filename': 'C:\\\\Users\\\\richa\\\\Anaconda3\\\\lib\\\\site-packages\\\\sklearn\\\\datasets\\\\data\\\\boston_house_prices.csv'}\n"
     ]
    }
   ],
   "source": [
    "# Key things to note is data, target, feature_names as I will use these during the project\n",
    "print(bhp)"
   ]
  },
  {
   "cell_type": "code",
   "execution_count": 3,
   "metadata": {},
   "outputs": [
    {
     "name": "stdout",
     "output_type": "stream",
     "text": [
      ".. _boston_dataset:\n",
      "\n",
      "Boston house prices dataset\n",
      "---------------------------\n",
      "\n",
      "**Data Set Characteristics:**  \n",
      "\n",
      "    :Number of Instances: 506 \n",
      "\n",
      "    :Number of Attributes: 13 numeric/categorical predictive. Median Value (attribute 14) is usually the target.\n",
      "\n",
      "    :Attribute Information (in order):\n",
      "        - CRIM     per capita crime rate by town\n",
      "        - ZN       proportion of residential land zoned for lots over 25,000 sq.ft.\n",
      "        - INDUS    proportion of non-retail business acres per town\n",
      "        - CHAS     Charles River dummy variable (= 1 if tract bounds river; 0 otherwise)\n",
      "        - NOX      nitric oxides concentration (parts per 10 million)\n",
      "        - RM       average number of rooms per dwelling\n",
      "        - AGE      proportion of owner-occupied units built prior to 1940\n",
      "        - DIS      weighted distances to five Boston employment centres\n",
      "        - RAD      index of accessibility to radial highways\n",
      "        - TAX      full-value property-tax rate per $10,000\n",
      "        - PTRATIO  pupil-teacher ratio by town\n",
      "        - B        1000(Bk - 0.63)^2 where Bk is the proportion of blacks by town\n",
      "        - LSTAT    % lower status of the population\n",
      "        - MEDV     Median value of owner-occupied homes in $1000's\n",
      "\n",
      "    :Missing Attribute Values: None\n",
      "\n",
      "    :Creator: Harrison, D. and Rubinfeld, D.L.\n",
      "\n",
      "This is a copy of UCI ML housing dataset.\n",
      "https://archive.ics.uci.edu/ml/machine-learning-databases/housing/\n",
      "\n",
      "\n",
      "This dataset was taken from the StatLib library which is maintained at Carnegie Mellon University.\n",
      "\n",
      "The Boston house-price data of Harrison, D. and Rubinfeld, D.L. 'Hedonic\n",
      "prices and the demand for clean air', J. Environ. Economics & Management,\n",
      "vol.5, 81-102, 1978.   Used in Belsley, Kuh & Welsch, 'Regression diagnostics\n",
      "...', Wiley, 1980.   N.B. Various transformations are used in the table on\n",
      "pages 244-261 of the latter.\n",
      "\n",
      "The Boston house-price data has been used in many machine learning papers that address regression\n",
      "problems.   \n",
      "     \n",
      ".. topic:: References\n",
      "\n",
      "   - Belsley, Kuh & Welsch, 'Regression diagnostics: Identifying Influential Data and Sources of Collinearity', Wiley, 1980. 244-261.\n",
      "   - Quinlan,R. (1993). Combining Instance-Based and Model-Based Learning. In Proceedings on the Tenth International Conference of Machine Learning, 236-243, University of Massachusetts, Amherst. Morgan Kaufmann.\n",
      "\n",
      "---------------------------------------------\n",
      "Summary\n",
      "\n",
      "Number of Houses          :  506\n",
      "Number of Housing Features:  14\n"
     ]
    }
   ],
   "source": [
    "# Above I executed bhp to have a look but it it not the best for reading. Below contains the similar information but is \n",
    "# structured. ie : Attribute Information and what is represents\n",
    "\n",
    "print (bhp.DESCR)\n",
    "\n",
    "print (\"---------------------------------------------\")\n",
    "print (\"Summary\\n\")\n",
    "features = boston.shape[1]\n",
    "houses = boston.shape[0]\n",
    "print (\"Number of Houses          : \", houses)\n",
    "print (\"Number of Housing Features: \", features)"
   ]
  },
  {
   "cell_type": "code",
   "execution_count": 89,
   "metadata": {},
   "outputs": [
    {
     "name": "stdout",
     "output_type": "stream",
     "text": [
      "      CRIM    ZN  INDUS  CHAS    NOX     RM   AGE     DIS  RAD    TAX  \\\n",
      "0  0.00632  18.0   2.31   NaN  0.538  6.575  65.2  4.0900  1.0  296.0   \n",
      "1  0.02731   NaN   7.07   NaN  0.469  6.421  78.9  4.9671  2.0  242.0   \n",
      "2  0.02729   NaN   7.07   NaN  0.469  7.185  61.1  4.9671  2.0  242.0   \n",
      "\n",
      "   PTRATIO       B  LSTAT  MEDV  \n",
      "0     15.3  396.90   4.98  24.0  \n",
      "1     17.8  396.90   9.14  21.6  \n",
      "2     17.8  392.83   4.03  34.7  \n"
     ]
    }
   ],
   "source": [
    "# Take a look at the data\n",
    "print(boston.head(3))"
   ]
  },
  {
   "cell_type": "code",
   "execution_count": 5,
   "metadata": {},
   "outputs": [
    {
     "name": "stdout",
     "output_type": "stream",
     "text": [
      "             CRIM          ZN       INDUS        CHAS         NOX          RM  \\\n",
      "count  506.000000  506.000000  506.000000  506.000000  506.000000  506.000000   \n",
      "mean     3.613524   11.363636   11.136779    0.069170    0.554695    6.284634   \n",
      "std      8.601545   23.322453    6.860353    0.253994    0.115878    0.702617   \n",
      "min      0.006320    0.000000    0.460000    0.000000    0.385000    3.561000   \n",
      "25%      0.082045    0.000000    5.190000    0.000000    0.449000    5.885500   \n",
      "50%      0.256510    0.000000    9.690000    0.000000    0.538000    6.208500   \n",
      "75%      3.677083   12.500000   18.100000    0.000000    0.624000    6.623500   \n",
      "max     88.976200  100.000000   27.740000    1.000000    0.871000    8.780000   \n",
      "\n",
      "              AGE         DIS         RAD         TAX     PTRATIO           B  \\\n",
      "count  506.000000  506.000000  506.000000  506.000000  506.000000  506.000000   \n",
      "mean    68.574901    3.795043    9.549407  408.237154   18.455534  356.674032   \n",
      "std     28.148861    2.105710    8.707259  168.537116    2.164946   91.294864   \n",
      "min      2.900000    1.129600    1.000000  187.000000   12.600000    0.320000   \n",
      "25%     45.025000    2.100175    4.000000  279.000000   17.400000  375.377500   \n",
      "50%     77.500000    3.207450    5.000000  330.000000   19.050000  391.440000   \n",
      "75%     94.075000    5.188425   24.000000  666.000000   20.200000  396.225000   \n",
      "max    100.000000   12.126500   24.000000  711.000000   22.000000  396.900000   \n",
      "\n",
      "            LSTAT        MEDV  \n",
      "count  506.000000  506.000000  \n",
      "mean    12.653063   22.532806  \n",
      "std      7.141062    9.197104  \n",
      "min      1.730000    5.000000  \n",
      "25%      6.950000   17.025000  \n",
      "50%     11.360000   21.200000  \n",
      "75%     16.955000   25.000000  \n",
      "max     37.970000   50.000000  \n"
     ]
    }
   ],
   "source": [
    "# Statistical details of each column - Using print keep the information on the same page and no scrolling is required.\n",
    "print(boston.describe())"
   ]
  },
  {
   "cell_type": "code",
   "execution_count": 6,
   "metadata": {},
   "outputs": [
    {
     "name": "stdout",
     "output_type": "stream",
     "text": [
      "CRIM       0\n",
      "ZN         0\n",
      "INDUS      0\n",
      "CHAS       0\n",
      "NOX        0\n",
      "RM         0\n",
      "AGE        0\n",
      "DIS        0\n",
      "RAD        0\n",
      "TAX        0\n",
      "PTRATIO    0\n",
      "B          0\n",
      "LSTAT      0\n",
      "MEDV       0\n",
      "dtype: int64\n"
     ]
    }
   ],
   "source": [
    "# Null value check\n",
    "# boston.isnull() - Better use .sum as this is not clear.\n",
    "\n",
    "print(boston.isnull().sum())"
   ]
  },
  {
   "cell_type": "markdown",
   "metadata": {},
   "source": [
    "## Statistical Analysis\n",
    "\n",
    "_By using the NumPy library I am able to calculate a few meaningful statistics about the dataset_"
   ]
  },
  {
   "cell_type": "code",
   "execution_count": 90,
   "metadata": {},
   "outputs": [
    {
     "name": "stdout",
     "output_type": "stream",
     "text": [
      "CRIM        0.000000\n",
      "ZN         73.517787\n",
      "INDUS       0.000000\n",
      "CHAS       93.083004\n",
      "NOX         0.000000\n",
      "RM          0.000000\n",
      "AGE         0.000000\n",
      "DIS         0.000000\n",
      "RAD         0.000000\n",
      "TAX         0.000000\n",
      "PTRATIO     0.000000\n",
      "B           0.000000\n",
      "LSTAT       0.000000\n",
      "MEDV        0.000000\n",
      "dtype: float64\n"
     ]
    }
   ],
   "source": [
    "# Convert zeros to NAN\n",
    "boston.ZN.replace(0, np.nan, inplace=True)\n",
    "boston.CHAS.replace(0, np.nan, inplace=True)\n",
    "# boston.info()\n",
    "\n",
    "\n",
    "# Let’s calculate the percentage of missing values. If there is 20-25% missing values we can impute them with different \n",
    "# ways like mean, median. But if it’s more than that, it’s better to remove those features \n",
    "# otherwise they can affect our result. As we can see below both “zn” and “chas” missing more than 70% data so these can \n",
    "# be remove but as we have to use chas I will leave it in.\n",
    "\n",
    "print(boston.isnull().sum()/len(data)*100)"
   ]
  },
  {
   "cell_type": "code",
   "execution_count": 8,
   "metadata": {},
   "outputs": [
    {
     "name": "stdout",
     "output_type": "stream",
     "text": [
      "House prices in $1000's\n",
      "\n",
      "Total houses       : 506\n",
      "Total features     : 13\n",
      "Minimum price      : $5\n",
      "Maximum price      : $50\n",
      "Mean price         : $22.53\n",
      "Median price       : $21.20\n",
      "Standard deviation : $9.19\n"
     ]
    }
   ],
   "source": [
    "# Number of houses\n",
    "total_houses = data.shape[0]\n",
    "\n",
    "# Number of features\n",
    "total_features = data.shape[1]\n",
    "\n",
    "# Max price\n",
    "max_price = np.amax(prices)\n",
    "\n",
    "# Minimum price\n",
    "min_price = np.min(prices)\n",
    "\n",
    "# Mean price\n",
    "mean_price = np.mean(prices)\n",
    "\n",
    "# Median price\n",
    "median_price = np.median(prices)\n",
    "\n",
    "# Standard deviation\n",
    "std_dev = np.std(prices)\n",
    "\n",
    "# Calculate and show statistics\n",
    "print (\"House prices in $1000's\\n\")\n",
    "print (\"Total houses       :\", total_houses)\n",
    "print (\"Total features     :\", total_features)\n",
    "print (\"Minimum price      : ${:.0f}\".format(min_price))\n",
    "print (\"Maximum price      : ${:.0f}\".format(max_price))\n",
    "print (\"Mean price         : ${:.2f}\".format(mean_price))\n",
    "print (\"Median price       : ${:.2f}\".format(median_price))\n",
    "print (\"Standard deviation : ${:.2f}\".format(std_dev))"
   ]
  },
  {
   "cell_type": "code",
   "execution_count": 87,
   "metadata": {},
   "outputs": [
    {
     "name": "stdout",
     "output_type": "stream",
     "text": [
      "Total number of houses along the river is =  35 , and the median price along the river in $1000's : $23.30 \n",
      "\n",
      "Total number of houses not along the river is =  471 , and the median price not along the river in $1000's : $20.90 \n",
      "\n"
     ]
    },
    {
     "data": {
      "image/png": "[encoded data removed]",
      "text/plain": [
       "<Figure size 720x720 with 1 Axes>"
      ]
     },
     "metadata": {
      "needs_background": "light"
     },
     "output_type": "display_data"
    }
   ],
   "source": [
    "# Find total of houses that are along the Charles river and those that aren’t.\n",
    "\n",
    "# Find the amount of houses\n",
    "df1 = pd.DataFrame(boston.CHAS == 1)\n",
    "df2 = pd.DataFrame(prices)\n",
    "\n",
    "# Find the total number of house along the charles river\n",
    "check1 = (boston.CHAS == 1).sum()\n",
    "\n",
    "# find and print the locations where CHAS == 1. Will edit this out for viewing reason \n",
    "#check1 = (boston.loc[boston['CHAS'] == 1])\n",
    "#print(\"Position numbers of these 1.0 results are : \\n\",(check.CHAS))\n",
    "\n",
    "# Find the median of MEDV where CHAS == 1\n",
    "medianMEDV1 = (boston.loc[boston[\"CHAS\"] == 1][\"MEDV\"]).median()\n",
    "print (\"Total number of houses along the river is = \",(check1), \", and the median price along the river in $1000's : ${0:.2f}\".format(medianMEDV1), \"\\n\")\n",
    "\n",
    "\n",
    "\n",
    "\n",
    "\n",
    "\n",
    "# Find the total number of house not along the charles river\n",
    "check0 = (boston.CHAS != 1).sum()\n",
    "\n",
    "# find and print the locations where CHAS = 0. Will edit this out for viewing reason \n",
    "check = (boston.loc[boston['CHAS'] != 1])\n",
    "#print(\"Position numbers of these 0.0 results are : \\n\",(check.CHAS))\n",
    "\n",
    "# Find the median of MEDV where CHAS == 0\n",
    "medianMEDV0 = (boston.loc[boston[\"CHAS\"] != 1][\"MEDV\"]).median()\n",
    "print (\"Total number of houses not along the river is = \",(check0), \", and the median price not along the river in $1000's : ${0:.2f}\".format(medianMEDV0),\"\\n\")\n",
    "\n",
    "\n",
    "# Generate a bar graph\n",
    "names = ['Along River', 'Not Along River'] # Add X details\n",
    "values = [medianMEDV1 , medianMEDV0]       # Use values store in median result\n",
    "index = np.arange(len(names))\n",
    "plt.figure(figsize=(10, 10))\n",
    "plt.title(\"Houses Beside / Not Beside the Revier Median Result\", fontsize=20)\n",
    "plt.xticks(index, names, fontsize=15, rotation=20)\n",
    "plt.ylabel(\"Cost in $1000's \", fontsize=15)\n",
    "plt.bar(names, values)    \n",
    "\n",
    "plt.show()"
   ]
  },
  {
   "cell_type": "code",
   "execution_count": null,
   "metadata": {},
   "outputs": [],
   "source": [
    "\n",
    "\n"
   ]
  },
  {
   "cell_type": "code",
   "execution_count": 95,
   "metadata": {},
   "outputs": [
    {
     "name": "stdout",
     "output_type": "stream",
     "text": [
      "             CRIM          ZN       INDUS        CHAS         NOX          RM  \\\n",
      "count  506.000000  506.000000  506.000000  506.000000  506.000000  506.000000   \n",
      "mean     3.613524   11.363636   11.136779    0.069170    0.554695    6.284634   \n",
      "std      8.601545   23.322453    6.860353    0.253994    0.115878    0.702617   \n",
      "min      0.006320    0.000000    0.460000    0.000000    0.385000    3.561000   \n",
      "25%      0.082045    0.000000    5.190000    0.000000    0.449000    5.885500   \n",
      "50%      0.256510    0.000000    9.690000    0.000000    0.538000    6.208500   \n",
      "75%      3.677083   12.500000   18.100000    0.000000    0.624000    6.623500   \n",
      "max     88.976200  100.000000   27.740000    1.000000    0.871000    8.780000   \n",
      "\n",
      "              AGE         DIS         RAD         TAX     PTRATIO           B  \\\n",
      "count  506.000000  506.000000  506.000000  506.000000  506.000000  506.000000   \n",
      "mean    68.574901    3.795043    9.549407  408.237154   18.455534  356.674032   \n",
      "std     28.148861    2.105710    8.707259  168.537116    2.164946   91.294864   \n",
      "min      2.900000    1.129600    1.000000  187.000000   12.600000    0.320000   \n",
      "25%     45.025000    2.100175    4.000000  279.000000   17.400000  375.377500   \n",
      "50%     77.500000    3.207450    5.000000  330.000000   19.050000  391.440000   \n",
      "75%     94.075000    5.188425   24.000000  666.000000   20.200000  396.225000   \n",
      "max    100.000000   12.126500   24.000000  711.000000   22.000000  396.900000   \n",
      "\n",
      "            LSTAT  \n",
      "count  506.000000  \n",
      "mean    12.653063  \n",
      "std      7.141062  \n",
      "min      1.730000  \n",
      "25%      6.950000  \n",
      "50%     11.360000  \n",
      "75%     16.955000  \n",
      "max     37.970000  \n"
     ]
    }
   ],
   "source": [
    "# Load everything into the one data frame\n",
    "\n",
    "x=pd.DataFrame(bhp.data, columns=bhp.feature_names)\n",
    "y=pd.DataFrame(bhp.target)\n",
    "\n",
    "# Show what is in x\n",
    "print(x.describe())"
   ]
  },
  {
   "cell_type": "code",
   "execution_count": 96,
   "metadata": {},
   "outputs": [
    {
     "name": "stdout",
     "output_type": "stream",
     "text": [
      "LinearRegression(copy_X=True, fit_intercept=True, n_jobs=None,\n",
      "         normalize=False)\n",
      "\n",
      "\n",
      "[[-1.15966452e-01  4.71249231e-02  8.25980146e-03  3.23404531e+00\n",
      "  -1.66865890e+01  3.88410651e+00 -1.08974442e-02 -1.54129540e+00\n",
      "   2.93208309e-01 -1.34059383e-02 -9.06296429e-01  8.80823439e-03\n",
      "  -4.57723846e-01]]\n"
     ]
    }
   ],
   "source": [
    "# Apply regression using sklearn\n",
    "reg=linear_model.LinearRegression()\n",
    "\n",
    "# Split the data into training and testing data \n",
    "x_train, x_test, y_train, y_test = train_test_split(x, y, test_size=0.2, random_state =4) # Pass dataframe to split\n",
    "\n",
    "print(reg.fit(x_train, y_train))\n",
    "print(\"\\n\")\n",
    "\n",
    "# 13 Weights, 1 for each coefficient as this is linear regression\n",
    "print(reg.coef_)"
   ]
  },
  {
   "cell_type": "code",
   "execution_count": 97,
   "metadata": {},
   "outputs": [
    {
     "name": "stdout",
     "output_type": "stream",
     "text": [
      "x_test \n",
      "  [18.15584511] \n",
      "\n",
      "y_test          0\n",
      "211  19.3\n"
     ]
    }
   ],
   "source": [
    "# Print the intercept and number of coefficients.\n",
    "\n",
    "# Predict \n",
    "a=reg.predict(x_test)\n",
    "# print(a)  This will pint a long list but I will only use one so \n",
    "print(\"x_test \\n \", (a[3]), \"\\n\")\n",
    "\n",
    "# As we can see from print(a[0]) above the number is 12.07. Below we can compare with the actual value that is 16.5\n",
    "# The predictions should always be faily close\n",
    "print(\"y_test \", y_test[3:4])"
   ]
  },
  {
   "cell_type": "code",
   "execution_count": 15,
   "metadata": {},
   "outputs": [
    {
     "name": "stdout",
     "output_type": "stream",
     "text": [
      " Estimated intercept [35.55487454]\n",
      " Number of coefficients 13\n"
     ]
    }
   ],
   "source": [
    "# Print the intercept and number of coefficients\n",
    "print(\" Estimated intercept\", reg.intercept_)\n",
    "\n",
    "print(\" Number of coefficients\", len(reg.coef_[0]))"
   ]
  },
  {
   "cell_type": "code",
   "execution_count": 100,
   "metadata": {},
   "outputs": [
    {
     "name": "stdout",
     "output_type": "stream",
     "text": [
      "   Features  EstimatedCoefficients\n",
      "0      CRIM              -0.115966\n",
      "1        ZN               0.047125\n",
      "2     INDUS               0.008260\n",
      "3      CHAS               3.234045\n",
      "4       NOX             -16.686589\n",
      "5        RM               3.884107\n",
      "6       AGE              -0.010897\n",
      "7       DIS              -1.541295\n",
      "8       RAD               0.293208\n",
      "9       TAX              -0.013406\n",
      "10  PTRATIO              -0.906296\n",
      "11        B               0.008808\n",
      "12    LSTAT              -0.457724\n"
     ]
    }
   ],
   "source": [
    "# Construct a data frame that contains features and estimated coefficients\n",
    "\n",
    "print(pd.DataFrame(zip(x.columns, reg.coef_[0]), columns = [\"Features\", \"EstimatedCoefficients\"]))"
   ]
  },
  {
   "cell_type": "markdown",
   "metadata": {},
   "source": [
    "_From the data frame above I can see that there is a high correlation between RM and prices._\n",
    "\n",
    "_I will use a scatter plot to view this relationship better._"
   ]
  },
  {
   "cell_type": "code",
   "execution_count": 126,
   "metadata": {},
   "outputs": [
    {
     "data": {
      "image/png": "[encoded data removed]",
      "text/plain": [
       "<Figure size 720x720 with 1 Axes>"
      ]
     },
     "metadata": {
      "needs_background": "light"
     },
     "output_type": "display_data"
    }
   ],
   "source": [
    "# Plot the scatter plot\n",
    "plt.figure(figsize=(10, 10))\n",
    "plt.scatter(boston.RM, prices)\n",
    "plt.title((\"Relationship Between Price and RM\"),fontsize=20)\n",
    "plt.xlabel(\"AVG Number of Rooms (RM)\")\n",
    "plt.ylabel(\"House Price\")\n",
    "plt.show()\n"
   ]
  },
  {
   "cell_type": "markdown",
   "metadata": {},
   "source": [
    "_We can see that there is a positive correlation between RM and housing prices_"
   ]
  },
  {
   "cell_type": "code",
   "execution_count": 104,
   "metadata": {},
   "outputs": [
    {
     "name": "stdout",
     "output_type": "stream",
     "text": [
      "0    25.419587\n",
      "dtype: float64\n"
     ]
    }
   ],
   "source": [
    "# Mean square error. a-y_test will give me the error and **2 will give me the mean square error.\n",
    "\n",
    "print(np.mean((a-y_test)**2))"
   ]
  },
  {
   "cell_type": "code",
   "execution_count": null,
   "metadata": {},
   "outputs": [],
   "source": []
  },
  {
   "cell_type": "code",
   "execution_count": null,
   "metadata": {},
   "outputs": [],
   "source": []
  }
 ],
 "metadata": {
  "kernelspec": {
   "display_name": "Python 3",
   "language": "python",
   "name": "python3"
  },
  "language_info": {
   "codemirror_mode": {
    "name": "ipython",
    "version": 3
   },
   "file_extension": ".py",
   "mimetype": "text/x-python",
   "name": "python",
   "nbconvert_exporter": "python",
   "pygments_lexer": "ipython3",
   "version": "3.7.3"
  }
 },
 "nbformat": 4,
 "nbformat_minor": 2
}
